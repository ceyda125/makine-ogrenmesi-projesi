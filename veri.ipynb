{
 "cells": [
  {
   "cell_type": "code",
   "execution_count": 5,
   "id": "709d4d39-d240-4d9e-a138-829866a7bbbb",
   "metadata": {},
   "outputs": [],
   "source": [
    "import random\n",
    "import numpy as np\n",
    "import pandas as pd\n",
    "from sklearn.preprocessing import StandardScaler, LabelEncoder, OneHotEncoder\n",
    "\n",
    "# Aktivite seviyelerinin sayısal karşılıkları\n",
    "activity_level_map = {\n",
    "    'Hareketsiz': 0.9,\n",
    "    'Hafif': 1.3,\n",
    "    'Orta': 1.6,\n",
    "    'Yüksek': 2\n",
    "}\n",
    "\n",
    "num_samples = 100\n",
    "\n",
    "data = []\n",
    "\n",
    "# Veri oluşturma\n",
    "for _ in range(num_samples):\n",
    "    weight = random.randint(40, 100)\n",
    "    age = random.randint(18, 65)\n",
    "    height = random.randint(150, 190)\n",
    "    gender = random.choice(['Erkek', 'Kadın'])\n",
    "    activity_level = random.choice(list(activity_level_map.keys()))\n",
    "\n",
    "    # Kalori ihtiyacı hesaplama fonksiyonu\n",
    "    def calculate_calories(gender, weight, height, age, activity_level):\n",
    "        activity_multiplier = activity_level_map[activity_level]  # Aktivite seviyesinin sayısal değeri\n",
    "        if gender == 'Erkek':\n",
    "            bmr = 88.362 + (13.397 * weight) + (4.799 * height) - (5.677 * age)\n",
    "        else:\n",
    "            bmr = 447.593 + (9.247 * weight) + (3.098 * height) - (4.330 * age)\n",
    "        \n",
    "        # Günlük kalori ihtiyacı\n",
    "        calories_needed = bmr * activity_multiplier\n",
    "        return calories_needed\n",
    "\n",
    "    calories_needed = calculate_calories(gender, weight, height, age, activity_level)\n",
    "\n",
    "    # Veriyi listeye ekle\n",
    "    data.append([height, weight, age, gender, activity_level, calories_needed])\n",
    "\n",
    "# DataFrame oluşturma\n",
    "df = pd.DataFrame(data, columns=['Boy (cm)', 'Kilo (kg)', 'Yaş (yıl)', 'Cinsiyet', 'Aktivite Seviyesi', 'Günlük Kalori İhtiyacı (kcal)'])\n",
    "\n",
    "# CSV'ye kaydetme\n",
    "df.to_csv('veri.csv', index=False)\n"
   ]
  },
  {
   "cell_type": "code",
   "execution_count": 3,
   "id": "a1a1e531-dcb8-4f7c-b838-4d3f98a9a7d6",
   "metadata": {},
   "outputs": [
    {
     "name": "stdout",
     "output_type": "stream",
     "text": [
      "Defaulting to user installation because normal site-packages is not writeable\n",
      "Requirement already satisfied: numpy in d:\\anaconda\\lib\\site-packages (1.26.4)\n",
      "Requirement already satisfied: pandas in d:\\anaconda\\lib\\site-packages (2.2.2)\n",
      "Requirement already satisfied: scikit-learn in d:\\anaconda\\lib\\site-packages (1.4.2)\n",
      "Requirement already satisfied: python-dateutil>=2.8.2 in d:\\anaconda\\lib\\site-packages (from pandas) (2.9.0.post0)\n",
      "Requirement already satisfied: pytz>=2020.1 in d:\\anaconda\\lib\\site-packages (from pandas) (2024.1)\n",
      "Requirement already satisfied: tzdata>=2022.7 in d:\\anaconda\\lib\\site-packages (from pandas) (2023.3)\n",
      "Requirement already satisfied: scipy>=1.6.0 in d:\\anaconda\\lib\\site-packages (from scikit-learn) (1.13.1)\n",
      "Requirement already satisfied: joblib>=1.2.0 in d:\\anaconda\\lib\\site-packages (from scikit-learn) (1.4.2)\n",
      "Requirement already satisfied: threadpoolctl>=2.0.0 in d:\\anaconda\\lib\\site-packages (from scikit-learn) (2.2.0)\n",
      "Requirement already satisfied: six>=1.5 in d:\\anaconda\\lib\\site-packages (from python-dateutil>=2.8.2->pandas) (1.16.0)\n",
      "Note: you may need to restart the kernel to use updated packages.\n"
     ]
    }
   ],
   "source": [
    "pip install numpy pandas scikit-learn\n"
   ]
  },
  {
   "cell_type": "code",
   "execution_count": null,
   "id": "c3ae9b47-0885-4b66-8469-e95c2ccc405a",
   "metadata": {},
   "outputs": [],
   "source": []
  }
 ],
 "metadata": {
  "kernelspec": {
   "display_name": "Python 3 (ipykernel)",
   "language": "python",
   "name": "python3"
  },
  "language_info": {
   "codemirror_mode": {
    "name": "ipython",
    "version": 3
   },
   "file_extension": ".py",
   "mimetype": "text/x-python",
   "name": "python",
   "nbconvert_exporter": "python",
   "pygments_lexer": "ipython3",
   "version": "3.12.4"
  }
 },
 "nbformat": 4,
 "nbformat_minor": 5
}
