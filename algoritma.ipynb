{
 "cells": [
  {
   "cell_type": "code",
   "execution_count": 18,
   "id": "263e641f-99fd-4f3b-a74f-4284ae54afe9",
   "metadata": {
    "scrolled": true
   },
   "outputs": [
    {
     "name": "stdout",
     "output_type": "stream",
     "text": [
      "Tüm modellerin RMSE değerleri:\n",
      "                      Model        RMSE\n",
      "0         Linear Regression  467.232204\n",
      "1             Decision Tree  363.371463\n",
      "2             Random Forest  220.299625\n",
      "3  Support Vector Regressor  694.449316\n",
      "4       K-Nearest Neighbors  354.300075\n",
      "5            Neural Network  184.488683\n",
      "6         Gradient Boosting  125.025136\n",
      "7                  AdaBoost  190.694669\n",
      "8          Ridge Regression  464.941334\n",
      "9          Lasso Regression  466.112853\n",
      "\n",
      "En iyi model: Gradient Boosting (RMSE: 125.02513568404999)\n"
     ]
    }
   ],
   "source": [
    "import pandas as pd\n",
    "import numpy as np\n",
    "from sklearn.model_selection import train_test_split\n",
    "from sklearn.metrics import mean_squared_error\n",
    "from sklearn.linear_model import LinearRegression\n",
    "from sklearn.tree import DecisionTreeRegressor\n",
    "from sklearn.ensemble import RandomForestRegressor\n",
    "from sklearn.svm import SVR\n",
    "from sklearn.neighbors import KNeighborsRegressor\n",
    "from sklearn.neural_network import MLPRegressor\n",
    "from sklearn.ensemble import GradientBoostingRegressor\n",
    "from sklearn.ensemble import AdaBoostRegressor\n",
    "from sklearn.linear_model import Ridge\n",
    "from sklearn.linear_model import Lasso\n",
    "from sklearn.preprocessing import LabelEncoder, StandardScaler\n",
    "from joblib import dump\n",
    "\n",
    "\n",
    "data = pd.read_csv('veri.csv')\n",
    "\n",
    "\n",
    "label_encoder = LabelEncoder()\n",
    "data['Cinsiyet'] = label_encoder.fit_transform(data['Cinsiyet'])\n",
    "data['Aktivite Seviyesi'] = label_encoder.fit_transform(data['Aktivite Seviyesi'])\n",
    "\n",
    "\n",
    "X = data[['Boy (cm)', 'Kilo (kg)', 'Yaş (yıl)', 'Cinsiyet', 'Aktivite Seviyesi']]\n",
    "Y = data[['Günlük Kalori İhtiyacı (kcal)']]\n",
    "\n",
    "Y = Y.values.ravel()\n",
    "\n",
    "\n",
    "scaler = StandardScaler()\n",
    "X_scaled = scaler.fit_transform(X)\n",
    "\n",
    "\n",
    "X_train, X_test, Y_train, Y_test = train_test_split(X_scaled, Y, test_size=0.2, random_state=42)\n",
    "\n",
    "\n",
    "algoritmalar = {\n",
    "    'Linear Regression': LinearRegression(),\n",
    "    'Decision Tree': DecisionTreeRegressor(),\n",
    "    'Random Forest': RandomForestRegressor(),\n",
    "    'Support Vector Regressor': SVR(),\n",
    "    'K-Nearest Neighbors': KNeighborsRegressor(),\n",
    "    'Neural Network': GradientBoostingRegressor(\n",
    "        n_estimators=500,  \n",
    "        learning_rate=0.05,  \n",
    "        max_depth=5,  \n",
    "        random_state=42\n",
    "    ),\n",
    "    'Gradient Boosting': GradientBoostingRegressor(),\n",
    "    'AdaBoost': AdaBoostRegressor(),\n",
    "    'Ridge Regression': Ridge(),\n",
    "    'Lasso Regression': Lasso()\n",
    "}\n",
    "\n",
    "\n",
    "rmse_results = []\n",
    "\n",
    "\n",
    "for name, model in algoritmalar.items():\n",
    "    model.fit(X_train, Y_train)\n",
    "    y_pred = model.predict(X_test)\n",
    "    rmse = np.sqrt(mean_squared_error(Y_test, y_pred))\n",
    "    rmse_results.append({'Model': name, 'RMSE': rmse})\n",
    "\n",
    "\n",
    "results_df = pd.DataFrame(rmse_results)\n",
    "\n",
    "\n",
    "best_model_row = results_df.loc[results_df['RMSE'].idxmin()]\n",
    "best_model_name = best_model_row['Model']\n",
    "best_model_rmse = best_model_row['RMSE']\n",
    "\n",
    "\n",
    "best_model = algoritmalar[best_model_name]\n",
    "best_model.fit(X_scaled, Y)\n",
    "\n",
    "\n",
    "dump(best_model, 'eniyi.joblib')\n",
    "\n",
    "\n",
    "print(\"Tüm modellerin RMSE değerleri:\")\n",
    "print(results_df)\n",
    "print(f\"\\nEn iyi model: {best_model_name} (RMSE: {best_model_rmse})\")\n",
    "\n",
    "\n",
    "results_df.to_csv('model_performances.csv', index=False)\n"
   ]
  },
  {
   "cell_type": "code",
   "execution_count": 13,
   "id": "70f83bbd-e581-40f9-867d-a8be5633f456",
   "metadata": {},
   "outputs": [
    {
     "name": "stdout",
     "output_type": "stream",
     "text": [
      "Defaulting to user installation because normal site-packages is not writeable\n",
      "Requirement already satisfied: numpy in d:\\anaconda\\lib\\site-packages (1.26.4)\n",
      "Requirement already satisfied: pandas in d:\\anaconda\\lib\\site-packages (2.2.2)\n",
      "Requirement already satisfied: scikit-learn in d:\\anaconda\\lib\\site-packages (1.4.2)\n",
      "Requirement already satisfied: joblib in d:\\anaconda\\lib\\site-packages (1.4.2)\n",
      "Requirement already satisfied: python-dateutil>=2.8.2 in d:\\anaconda\\lib\\site-packages (from pandas) (2.9.0.post0)\n",
      "Requirement already satisfied: pytz>=2020.1 in d:\\anaconda\\lib\\site-packages (from pandas) (2024.1)\n",
      "Requirement already satisfied: tzdata>=2022.7 in d:\\anaconda\\lib\\site-packages (from pandas) (2023.3)\n",
      "Requirement already satisfied: scipy>=1.6.0 in d:\\anaconda\\lib\\site-packages (from scikit-learn) (1.13.1)\n",
      "Requirement already satisfied: threadpoolctl>=2.0.0 in d:\\anaconda\\lib\\site-packages (from scikit-learn) (2.2.0)\n",
      "Requirement already satisfied: six>=1.5 in d:\\anaconda\\lib\\site-packages (from python-dateutil>=2.8.2->pandas) (1.16.0)\n",
      "Note: you may need to restart the kernel to use updated packages.\n"
     ]
    }
   ],
   "source": [
    "pip install numpy pandas scikit-learn joblib\n"
   ]
  },
  {
   "cell_type": "code",
   "execution_count": null,
   "id": "1edcc00f-e811-4879-a1ab-15ea29d98464",
   "metadata": {},
   "outputs": [],
   "source": []
  }
 ],
 "metadata": {
  "kernelspec": {
   "display_name": "Python 3 (ipykernel)",
   "language": "python",
   "name": "python3"
  },
  "language_info": {
   "codemirror_mode": {
    "name": "ipython",
    "version": 3
   },
   "file_extension": ".py",
   "mimetype": "text/x-python",
   "name": "python",
   "nbconvert_exporter": "python",
   "pygments_lexer": "ipython3",
   "version": "3.12.4"
  }
 },
 "nbformat": 4,
 "nbformat_minor": 5
}
